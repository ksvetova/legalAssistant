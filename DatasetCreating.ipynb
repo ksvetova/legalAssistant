{
  "nbformat": 4,
  "nbformat_minor": 0,
  "metadata": {
    "colab": {
      "name": "DatasetCreating.ipynb",
      "provenance": [],
      "collapsed_sections": []
    },
    "kernelspec": {
      "name": "python3",
      "display_name": "Python 3"
    },
    "language_info": {
      "name": "python"
    }
  },
  "cells": [
    {
      "cell_type": "code",
      "execution_count": 2,
      "metadata": {
        "colab": {
          "base_uri": "https://localhost:8080/"
        },
        "id": "T4y0KCecePzO",
        "outputId": "e5a1f378-6ec8-47c0-d5a9-196d51854c2a"
      },
      "outputs": [
        {
          "output_type": "stream",
          "name": "stdout",
          "text": [
            "/usr/local/lib/python3.7/dist-packages/gdown/cli.py:131: FutureWarning: Option `--id` was deprecated in version 4.3.1 and will be removed in 5.0. You don't need to pass it anymore to use a file ID.\n",
            "  category=FutureWarning,\n",
            "Downloading...\n",
            "From: https://drive.google.com/uc?id=1FxdYTtHxLUER4ZHWZQ6aSB_ds7D26PRD\n",
            "To: /content/юридический_помощник.zip\n",
            "100% 6.37M/6.37M [00:00<00:00, 136MB/s]\n"
          ]
        }
      ],
      "source": [
        "!gdown --id 1FxdYTtHxLUER4ZHWZQ6aSB_ds7D26PRD"
      ]
    },
    {
      "cell_type": "code",
      "source": [
        "!unzip /content/юридический_помощник.zip"
      ],
      "metadata": {
        "colab": {
          "base_uri": "https://localhost:8080/"
        },
        "id": "9efT50jbft8r",
        "outputId": "f2b5de51-eb60-496d-e9e0-7a5f6b4f8975"
      },
      "execution_count": 3,
      "outputs": [
        {
          "output_type": "stream",
          "name": "stdout",
          "text": [
            "Archive:  /content/юридический_помощник.zip\n",
            "   creating: Документы/\n",
            "  inflating: Документы/208_ot_18_fevralya_2022.docx  \n",
            "  inflating: Документы/221_ot_19_02_2022.docx  \n",
            "  inflating: Документы/33__33__33__33_o_vnesen_izm_33__33_Postanovlenie_Pravitelstva_RF_ot_28_10_2021_N_1850.docx  \n",
            "  inflating: Документы/392_ot_17_marta_2022.docx  \n",
            "  inflating: Документы/453_ot_24_marta_2022.docx  \n",
            "  inflating: Документы/469_ot_25_marta_2022.docx  \n",
            "  inflating: Документы/574_ot_2_aprelya_2022.docx  \n",
            "  inflating: Документы/662_ot_14_04_2022.docx  \n",
            "  inflating: Документы/662_ot_14_aprelya_2022.docx  \n",
            "  inflating: Документы/664_ot_14_04_2022.docx  \n",
            "  inflating: Документы/664_ot_14_aprelya_2022.docx  \n",
            "  inflating: Документы/761_ot_27_04_2022.docx  \n",
            "  inflating: Документы/761_ot_27_aprelya_2022.docx  \n",
            "  inflating: Документы/772_ot_28_aprelya_2022.docx  \n",
            "  inflating: Документы/804_ot_30_aprelya_2022.docx  \n",
            "  inflating: Документы/811_ot_4_maya_2022.docx  \n",
            "  inflating: Документы/814_ot_5_maya_2022.docx  \n",
            "  inflating: Документы/835_ot_9_maya_2022.docx  \n",
            "  inflating: Документы/845_ot_9_maya_2022.docx  \n",
            "  inflating: Документы/954_ot_27_maya_2022.docx  \n",
            "  inflating: Документы/955_ot_27_05_2022.docx  \n",
            "  inflating: Документы/955_ot_27_maya_2022.docx  \n",
            "  inflating: Документы/Gotovo_476.docx  \n",
            "  inflating: Документы/KuznetsovaPostanovlenie_Pravitelstva_RF_ot_18_03_2016_N_213.docx  \n",
            "  inflating: Документы/KuznetsovaPostanovlenie_Pravitelstva_RF_ot_18_09_2021_N_1578.docx  \n",
            "  inflating: Документы/KuznetsovaSchelkunovaPostanovlenie_Pravitelstva_RF_ot_26_08_2020_N_1283.docx  \n",
            "  inflating: Документы/KuznetsovaSchelkunovaPostanovlenie_Pravitelstva_RF_ot_26_12_2019_N_1850.docx  \n",
            "  inflating: Документы/KuznetsovaSchelkunova_Postanovlenie_Pravitelstva_RF_ot_26_04_2021_N_653.docx  \n",
            "  inflating: Документы/kuznetsovaSchelkunova_Postanovlenie_Pravitelstva_RF_ot_26_07_2018_N_874.docx  \n",
            "  inflating: Документы/Postanovlenie_Praitelstva_ot_18_03_2022_397.docx  \n",
            "  inflating: Документы/Postanovlenie_Pravitelstva_ot_13_12_2021_N_2281.docx  \n",
            "  inflating: Документы/Postanovlenie_Pravitelstva_ot_15_09_2020_1439.docx  \n",
            "  inflating: Документы/Postanovlenie_Pravitelstva_ot_15_12_2020_2098.docx  \n",
            "  inflating: Документы/Postanovlenie_pravitelstva_ot_21_09_2020_1512.docx  \n",
            "  inflating: Документы/Postanovlenie_Pravitelstva_ot_26_04_2021_N_646.docx  \n",
            "  inflating: Документы/Postanovlenie_pravitelstva_RF18_01_2017_N_27_Gumerova.docx  \n",
            "  inflating: Документы/Postanovlenie_pravitelstva_RF_02_03_2021_N_294.docx  \n",
            "  inflating: Документы/Postanovlenie_Pravitelstva_RF_ot28_12_2019_N_1930.docx  \n",
            "  inflating: Документы/Postanovlenie_Pravitelstva_RF_ot30_04_2019_N_532.docx  \n",
            "  inflating: Документы/Postanovlenie_pravitelstva_RF_ot_02_03_2018_N_215.docx  \n",
            "  inflating: Документы/Postanovlenie_Pravitelstva_RF_ot_02_03_2021_N_298.docx  \n",
            "  inflating: Документы/Postanovlenie_Pravitelstva_RF_ot_03_03_2017_N_248.docx  \n",
            "  inflating: Документы/Postanovlenie_Pravitelstva_RF_ot_03_04_2018_N_402.docx  \n",
            "  inflating: Документы/Postanovlenie_Pravitelstva_RF_ot_03_05_2019_N_548.docx  \n",
            "  inflating: Документы/Postanovlenie_Pravitelstva_RF_ot_03_12_2020_N_2003.docx  \n",
            "  inflating: Документы/Postanovlenie_Pravitelstva_RF_ot_09_06_2021_N_874.docx  \n",
            "  inflating: Документы/Postanovlenie_Pravitelstva_RF_ot_09_12_2020_N_2061.docx  \n",
            "  inflating: Документы/Postanovlenie_Pravitelstva_RF_ot_11_12_2020_N_2080.docx  \n",
            "  inflating: Документы/Postanovlenie_Pravitelstva_RF_ot_12_10_2019_N_1320.docx  \n",
            "  inflating: Документы/Postanovlenie_Pravitelstva_RF_ot_13_03_2021_N_369.docx  \n",
            "  inflating: Документы/Postanovlenie_Pravitelstva_RF_OT_13_12_2021_2276.docx  \n",
            "  inflating: Документы/Postanovlenie_Pravitelstva_RF_ot_14_04_2022_664.docx  \n",
            "  inflating: Документы/Postanovlenie_Pravitelstva_RF_ot_14_09_2020_1426.docx  \n",
            "  inflating: Документы/Postanovlenie_Pravitelstva_RF_ot_16_10_2017_N_1251_gotovoe.docx  \n",
            "  inflating: Документы/Postanovlenie_Pravitelstva_RF_ot_16_11_2020_N_1844.docx  \n",
            "  inflating: Документы/Postanovlenie_Pravitelstva_RF_ot_16_11_2021_N_1954.docx  \n",
            "  inflating: Документы/Postanovlenie_Pravitelstva_RF_ot_17_08_2019_N_1070.docx  \n",
            "  inflating: Документы/Postanovlenie_Pravitelstva_RF_ot_17_10_2018_N_1237.docx  \n",
            "  inflating: Документы/Postanovlenie_Pravitelstva_RF_ot_18_02_2021_N_213.docx  \n",
            "  inflating: Документы/Postanovlenie_Pravitelstva_RF_ot_18_03_2016_N_213.docx  \n",
            "  inflating: Документы/Postanovlenie_Pravitelstva_RF_ot_18_06_2021_N_931.docx  \n",
            "  inflating: Документы/Postanovlenie_Pravitelstva_RF_ot_18_09_2021_N_1578.docx  \n",
            "  inflating: Документы/Postanovlenie_Pravitelstva_RF_ot_18_11_2020_N_1875.docx  \n",
            "  inflating: Документы/Postanovlenie_Pravitelstva_RF_ot_19_02_2021_N_226.docx  \n",
            "  inflating: Документы/Postanovlenie_Pravitelstva_RF_ot_19_08_2017_N_985_docx.docx  \n",
            "  inflating: Документы/Postanovlenie_Pravitelstva_RF_ot_22_02_2021_N_245_Khromykh_i_Kononova.docx  \n",
            "  inflating: Документы/Postanovlenie_Pravitelstva_RF_ot_22_04_2019_N_483_Khromykh_i_Kononova.docx  \n",
            "  inflating: Документы/Postanovlenie_Pravitelstva_RF_ot_22_05_2020_N_726.docx  \n",
            "  inflating: Документы/Postanovlenie_Pravitelstva_RF_ot_23_06_2021_N_975.docx  \n",
            "  inflating: Документы/Postanovlenie_Pravitelstva_RF_ot_23_08_2021_N_1380.docx  \n",
            "  inflating: Документы/Postanovlenie_Pravitelstva_RF_ot_24_12_2020_N_2254.docx  \n",
            "  inflating: Документы/Postanovlenie_Pravitelstva_RF_ot_24_12_2021_N_2461.docx  \n",
            "  inflating: Документы/Postanovlenie_Pravitelstva_RF_ot_25_05_2017_N_634.docx  \n",
            "  inflating: Документы/Postanovlenie_Pravitelstva_RF_ot_25_08_2021_N_1406_gotovoe.docx  \n",
            "  inflating: Документы/Postanovlenie_Pravitelstva_RF_ot_25_12_2017_N_1633_gotovoe.docx  \n",
            "  inflating: Документы/Postanovlenie_Pravitelstva_RF_ot_25_12_2021_N_2488_Popova_Bragina.docx  \n",
            "  inflating: Документы/Postanovlenie_Pravitelstva_RF_ot_26_02_2021_N_269.docx  \n",
            "  inflating: Документы/Postanovlenie_Pravitelstva_RF_ot_27_03_2021_N_456.docx  \n",
            "  inflating: Документы/Postanovlenie_Pravitelstva_RF_ot_27_03_2021_N_464.docx  \n",
            "  inflating: Документы/Postanovlenie_Pravitelstva_RF_ot_27_03_2021_N_467_razmetka.docx  \n",
            "  inflating: Документы/Postanovlenie_pravitelstva_RF_ot_27_05_2021_N_798_-_Fedorov.docx  \n",
            "  inflating: Документы/Postanovlenie_Pravitelstva_RF_ot_27_09_2021_N_1619.docx  \n",
            "  inflating: Документы/Postanovlenie_Pravitelstva_RF_ot_27_12_2019_N_1870_razmecheno.docx  \n",
            "  inflating: Документы/Postanovlenie_Pravitelstva_RF_ot_28_08_2018_N_1011_gotovoe.docx  \n",
            "  inflating: Документы/Postanovlenie_Pravitelstva_RF_ot_29_06_2017_N_779.docx  \n",
            "  inflating: Документы/Postanovlenie_Pravitelstva_RF_ot_29_09_2017_N_1179.docx  \n",
            "  inflating: Документы/Postanovlenie_Pravitelstva_RF_ot_30_06_2021_N_1103.docx  \n",
            "  inflating: Документы/Postanovlenie_Pravitelstva_RF_ot_30_07_2021_N_1288_gotovoe.docx  \n",
            "  inflating: Документы/Postanovlenie_Pravitelstva_RF_ot_30_11_2021_N_2139.docx  \n",
            "  inflating: Документы/Postanovlenie_Pravitelstva_RF_ot_30_12_2020_N_2380.docx  \n",
            "  inflating: Документы/Postanovlenie_Pravitelstva_RF_ot_31_03_2021_N_487.docx  \n",
            "  inflating: Документы/Postanovlenie_Pravitelstva_RF_ot_31_12_2016_N_1579.docx  \n",
            "  inflating: Документы/Postanovlenie_Pravitelstva_Rossiyskoy_Federatsii_16_12_2020_2129.docx  \n",
            "  inflating: Документы/Postanovlenie_Pravitelstva_Rossiyskoy_Federatsii_ot_03_06_2020_813.docx  \n",
            "  inflating: Документы/Postanovlenie_Pravitelstva_Rossiyskoy_Federatsii_ot_03_06_2020__813.docx  \n",
            "  inflating: Документы/Postanovlenie_Pravitelstva_Rossiyskoy_Federatsii_ot_03_12_2020__2012.docx  \n",
            "  inflating: Документы/Postanovlenie_Pravitelstva_Rossiyskoy_Federatsii_ot_04_03_2021_314.docx  \n",
            "  inflating: Документы/Postanovlenie_Pravitelstva_Rossiyskoy_Federatsii_ot_04_03_2021__314.docx  \n",
            "  inflating: Документы/Postanovlenie_Pravitelstva_Rossiyskoy_Federatsii_ot_04_06_2020_823.docx  \n",
            "  inflating: Документы/Postanovlenie_Pravitelstva_Rossiyskoy_Federatsii_ot_06_10_2020_1609.docx  \n",
            "  inflating: Документы/Postanovlenie_Pravitelstva_Rossiyskoy_Federatsii_ot_07_04_2022_612.docx  \n",
            "  inflating: Документы/Postanovlenie_Pravitelstva_Rossiyskoy_Federatsii_ot_07_08_2021_1312.docx  \n",
            "  inflating: Документы/Postanovlenie_Pravitelstva_Rossiyskoy_Federatsii_ot_09_03_2022_318.docx  \n",
            "  inflating: Документы/Postanovlenie_Pravitelstva_Rossiyskoy_Federatsii_ot_09_06_2021_875.docx  \n",
            "  inflating: Документы/Postanovlenie_Pravitelstva_Rossiyskoy_Federatsii_ot_09_06_2021_876.docx  \n",
            "  inflating: Документы/Postanovlenie_Pravitelstva_Rossiyskoy_Federatsii_ot_10_07_2020_1013.docx  \n",
            "  inflating: Документы/Postanovlenie_Pravitelstva_Rossiyskoy_Federatsii_ot_12_02_2021_169.docx  \n",
            "  inflating: Документы/Postanovlenie_Pravitelstva_Rossiyskoy_Federatsii_ot_13_02_2021_179.docx  \n",
            "  inflating: Документы/Postanovlenie_Pravitelstva_Rossiyskoy_Federatsii_ot_13_05_2020_667.docx  \n",
            "  inflating: Документы/Postanovlenie_Pravitelstva_Rossiyskoy_Federatsii_ot_13_05_2020_669.docx  \n",
            "  inflating: Документы/Postanovlenie_Pravitelstva_Rossiyskoy_Federatsii_ot_15_02_2021_196.docx  \n",
            "  inflating: Документы/Postanovlenie_Pravitelstva_Rossiyskoy_Federatsii_ot_16_05_2020_696.docx  \n",
            "  inflating: Документы/Postanovlenie_Pravitelstva_Rossiyskoy_Federatsii_ot_19_05_2021_759.docx  \n",
            "  inflating: Документы/Postanovlenie_Pravitelstva_Rossiyskoy_Federatsii_ot_21_08_2020_1265.docx  \n",
            "  inflating: Документы/Postanovlenie_Pravitelstva_Rossiyskoy_Federatsii_ot_21_12_2020_365.docx  \n",
            "  inflating: Документы/Postanovlenie_Pravitelstva_Rossiyskoy_Federatsii_ot_22_03_2021_439.docx  \n",
            "  inflating: Документы/Postanovlenie_Pravitelstva_Rossiyskoy_Federatsii_ot_23_12_2020_2251.docx  \n",
            "  inflating: Документы/Postanovlenie_Pravitelstva_Rossiyskoy_Federatsii_ot_25_02_2021_254.docx  \n",
            "  inflating: Документы/Postanovlenie_Pravitelstva_Rossiyskoy_Federatsii_ot_26_01_2021_49_razmecheno.docx  \n",
            "  inflating: Документы/Postanovlenie_Pravitelstva_Rossiyskoy_Federatsii_ot_26_02_2022_252.docx  \n",
            "  inflating: Документы/Postanovlenie_Pravitelstva_Rossiyskoy_Federatsii_ot_27_02_2021_279.docx  \n",
            "  inflating: Документы/Postanovlenie_Pravitelstva_Rossiyskoy_Federatsii_ot_27_03_2021_465.docx  \n",
            "  inflating: Документы/Postanovlenie_Pravitelstva_Rossiyskoy_Federatsii_ot_27_05_2021_797.docx  \n",
            "  inflating: Документы/Postanovlenie_Pravitelstva_Rossiyskoy_Federatsii_ot_27_05_2021_799.docx  \n",
            "  inflating: Документы/Postanovlenie_Pravitelstva_Rossiyskoy_Federatsii_ot_27_07_2020_1121.docx  \n",
            "  inflating: Документы/Postanovlenie_Pravitelstva_Rossiyskoy_Federatsii_ot_27_11_2021_2064_razmecheno.docx  \n",
            "  inflating: Документы/Postanovlenie_Pravitelstva_Rossiyskoy_Federatsii_ot_28_12_2021_2508.docx  \n",
            "  inflating: Документы/Postanovlenie_Pravitelstva_Rossiyskoy_Federatsii_ot_29_05_2020_783.docx  \n",
            "  inflating: Документы/Postanovlenie_Pravitelstva_Rossiyskoy_Federatsii_ot_31_12_2020_2455.docx  \n",
            "  inflating: Документы/Postanovlenie_Pravitelstva_Rossiyskoy_Federatsii_ot_31_12_2021_2609.docx  \n",
            "  inflating: Документы/POSTANOVLENIE_PRAVITEL_STVA_RF_16_03_2022_375.docx  \n",
            "  inflating: Документы/Postanovlenie_Rossiyskoy_Federatsii_ot_17_08_2021_1357.docx  \n",
            "  inflating: Документы/PP_RF_ot_04_05_2021_N_712.docx  \n",
            "  inflating: Документы/PP_RF_ot_09_06_2021_N_874.docx  \n",
            "  inflating: Документы/PP_RF_ot_09_12_2020_N_2061.docx  \n",
            "  inflating: Документы/PP_RF_ot_11_12_2020_N_2080.docx  \n",
            "  inflating: Документы/PP_RF_ot_12_10_2019_N_1320.docx  \n",
            "  inflating: Документы/PP_RF_ot_13_03_2021_N_369.docx  \n",
            "  inflating: Документы/PP_RF_ot_13_05_2020_668.docx  \n",
            "  inflating: Документы/PP_Rossiyskoy_Federatsii_ot_04_03_2021_314.docx  \n",
            "  inflating: Документы/PP_Rossiyskoy_Federatsii_ot_21_12_2020.docx  \n",
            "  inflating: Документы/sdelano_2394.docx  \n",
            "  inflating: Документы/Постановление Правительства Российской Федерации от 10.12.2021 N 2249.docx  \n",
            "  inflating: Документы/Постановление Правительства Российской Федерации от 14.04.2022 № 662.docx  \n",
            "  inflating: Документы/Постановление Правительства Российской Федерации от 14.12.2020 N 2084.docx  \n",
            "  inflating: Документы/Постановление Правительства Российской Федерации от 16.12.2020 № 2130.docx  \n",
            "  inflating: Документы/Постановление Правительства РФ 04.05.2021 N 713.docx  \n",
            "  inflating: Документы/Постановление Правительства РФ от 03.05.2019 N 552.docx  \n",
            "  inflating: Документы/Постановление Правительства РФ от 03.11.2018 N 1304.docx  \n",
            "  inflating: Документы/Постановление Правительства РФ от 05.07.2021 N 1120.docx  \n",
            "  inflating: Документы/Постановление Правительства РФ от 06.02.2021 N 130.docx  \n",
            "  inflating: Документы/Постановление Правительства РФ от 06.07.2020 N 992.docx  \n",
            "  inflating: Документы/Постановление Правительства РФ от 06.12.2021 N 2212.docx  \n",
            "  inflating: Документы/Постановление Правительства РФ от 08.10.2020 N 1634.docx  \n",
            "  inflating: Документы/Постановление Правительства РФ от 21.12.2020 N 2187.docx  \n",
            "  inflating: Документы/Постановление Правительства РФ от 26.01.2021 N 45.docx  \n",
            "  inflating: Документы/Постановление Правительства РФ от 26.06.2021 N 1023.docx  \n",
            "  inflating: Документы/Постановление Правительства РФ от 27 августа 2021 г. N 1423.docx  \n",
            "  inflating: Документы/Постановление Правительства РФ от 27.03.2021 N 456.docx  \n",
            "  inflating: Документы/Постановление Правительства РФ от 27.05.2021 N 811.docx  \n",
            "  inflating: Документы/Постановление Правительства РФ от 27.06.2018 N 741.docx  \n",
            "  inflating: Документы/Постановление Правительства РФ от 27.12.2019 N 1870.docx  \n",
            "  inflating: Документы/Постановление Правительства РФ от 28.06.2021 N 1031.docx  \n",
            "  inflating: Документы/Постановление Правительства РФ от 28.08.2018 N 1011.docx  \n",
            "  inflating: Документы/Постановление Правительства РФ от 30.04.2019 N 530.docx  \n",
            "replace check_list_1492.docx? [y]es, [n]o, [A]ll, [N]one, [r]ename: n\n",
            "replace Пояснения к датасету.docx? [y]es, [n]o, [A]ll, [N]one, [r]ename: n\n"
          ]
        }
      ]
    },
    {
      "cell_type": "code",
      "source": [
        "!pip install python-docx"
      ],
      "metadata": {
        "colab": {
          "base_uri": "https://localhost:8080/"
        },
        "id": "ndeWQ3u9nJrf",
        "outputId": "874f65dc-1d79-46fb-9676-dfe90384f042"
      },
      "execution_count": 5,
      "outputs": [
        {
          "output_type": "stream",
          "name": "stdout",
          "text": [
            "Looking in indexes: https://pypi.org/simple, https://us-python.pkg.dev/colab-wheels/public/simple/\n",
            "Collecting python-docx\n",
            "  Downloading python-docx-0.8.11.tar.gz (5.6 MB)\n",
            "\u001b[K     |████████████████████████████████| 5.6 MB 10.0 MB/s \n",
            "\u001b[?25hRequirement already satisfied: lxml>=2.3.2 in /usr/local/lib/python3.7/dist-packages (from python-docx) (4.9.1)\n",
            "Building wheels for collected packages: python-docx\n",
            "  Building wheel for python-docx (setup.py) ... \u001b[?25l\u001b[?25hdone\n",
            "  Created wheel for python-docx: filename=python_docx-0.8.11-py3-none-any.whl size=184507 sha256=1a16c40efb8b34732d20679d25be8ab31fafbddfdfe3c099dd2c25a9b946b541\n",
            "  Stored in directory: /root/.cache/pip/wheels/f6/6f/b9/d798122a8b55b74ad30b5f52b01482169b445fbb84a11797a6\n",
            "Successfully built python-docx\n",
            "Installing collected packages: python-docx\n",
            "Successfully installed python-docx-0.8.11\n"
          ]
        }
      ]
    },
    {
      "cell_type": "code",
      "source": [
        "from docx import Document\n",
        "document = Document('docs/208_ot_18_fevralya_2022.docx')\n",
        "print(document.paragraphs)"
      ],
      "metadata": {
        "colab": {
          "base_uri": "https://localhost:8080/"
        },
        "id": "8-efjv11gtbR",
        "outputId": "128a7e63-281e-4118-e6b3-0e00826ecc68"
      },
      "execution_count": 28,
      "outputs": [
        {
          "output_type": "stream",
          "name": "stdout",
          "text": [
            "[<docx.text.paragraph.Paragraph object at 0x7f6f190ea050>, <docx.text.paragraph.Paragraph object at 0x7f6f190ea0d0>, <docx.text.paragraph.Paragraph object at 0x7f6f190ea150>, <docx.text.paragraph.Paragraph object at 0x7f6f190ea190>, <docx.text.paragraph.Paragraph object at 0x7f6f190ea210>, <docx.text.paragraph.Paragraph object at 0x7f6f190ea2d0>, <docx.text.paragraph.Paragraph object at 0x7f6f190ea310>, <docx.text.paragraph.Paragraph object at 0x7f6f190ea390>, <docx.text.paragraph.Paragraph object at 0x7f6f190ea090>, <docx.text.paragraph.Paragraph object at 0x7f6f190ea250>, <docx.text.paragraph.Paragraph object at 0x7f6f190ea410>, <docx.text.paragraph.Paragraph object at 0x7f6f190ea450>, <docx.text.paragraph.Paragraph object at 0x7f6f190ea4d0>, <docx.text.paragraph.Paragraph object at 0x7f6f190ea510>, <docx.text.paragraph.Paragraph object at 0x7f6f190ea590>, <docx.text.paragraph.Paragraph object at 0x7f6f190ea5d0>, <docx.text.paragraph.Paragraph object at 0x7f6f190ea650>, <docx.text.paragraph.Paragraph object at 0x7f6f190ea690>, <docx.text.paragraph.Paragraph object at 0x7f6f190ea710>, <docx.text.paragraph.Paragraph object at 0x7f6f190ea750>, <docx.text.paragraph.Paragraph object at 0x7f6f190ea7d0>, <docx.text.paragraph.Paragraph object at 0x7f6f190ea810>, <docx.text.paragraph.Paragraph object at 0x7f6f190ea890>, <docx.text.paragraph.Paragraph object at 0x7f6f190ea8d0>, <docx.text.paragraph.Paragraph object at 0x7f6f190ea950>, <docx.text.paragraph.Paragraph object at 0x7f6f190ea990>, <docx.text.paragraph.Paragraph object at 0x7f6f190eaa10>, <docx.text.paragraph.Paragraph object at 0x7f6f190eaa90>, <docx.text.paragraph.Paragraph object at 0x7f6f190eaad0>, <docx.text.paragraph.Paragraph object at 0x7f6f190eab50>, <docx.text.paragraph.Paragraph object at 0x7f6f190eab90>, <docx.text.paragraph.Paragraph object at 0x7f6f190eac10>, <docx.text.paragraph.Paragraph object at 0x7f6f190eac50>, <docx.text.paragraph.Paragraph object at 0x7f6f190eacd0>, <docx.text.paragraph.Paragraph object at 0x7f6f190ead10>, <docx.text.paragraph.Paragraph object at 0x7f6f190ead90>, <docx.text.paragraph.Paragraph object at 0x7f6f190eadd0>, <docx.text.paragraph.Paragraph object at 0x7f6f190eae50>, <docx.text.paragraph.Paragraph object at 0x7f6f190eae90>, <docx.text.paragraph.Paragraph object at 0x7f6f190eaf10>, <docx.text.paragraph.Paragraph object at 0x7f6f190eaf50>, <docx.text.paragraph.Paragraph object at 0x7f6f190eafd0>, <docx.text.paragraph.Paragraph object at 0x7f6f190ec050>, <docx.text.paragraph.Paragraph object at 0x7f6f190ec0d0>, <docx.text.paragraph.Paragraph object at 0x7f6f190ec110>, <docx.text.paragraph.Paragraph object at 0x7f6f190ec190>, <docx.text.paragraph.Paragraph object at 0x7f6f190ec1d0>, <docx.text.paragraph.Paragraph object at 0x7f6f190ec250>, <docx.text.paragraph.Paragraph object at 0x7f6f190ec290>, <docx.text.paragraph.Paragraph object at 0x7f6f190ec310>, <docx.text.paragraph.Paragraph object at 0x7f6f190ec350>, <docx.text.paragraph.Paragraph object at 0x7f6f190ec3d0>, <docx.text.paragraph.Paragraph object at 0x7f6f190ec410>, <docx.text.paragraph.Paragraph object at 0x7f6f190ec490>, <docx.text.paragraph.Paragraph object at 0x7f6f190ec4d0>, <docx.text.paragraph.Paragraph object at 0x7f6f190ec550>, <docx.text.paragraph.Paragraph object at 0x7f6f190ec590>, <docx.text.paragraph.Paragraph object at 0x7f6f190ec610>, <docx.text.paragraph.Paragraph object at 0x7f6f190ec650>, <docx.text.paragraph.Paragraph object at 0x7f6f190ec6d0>, <docx.text.paragraph.Paragraph object at 0x7f6f190ec710>, <docx.text.paragraph.Paragraph object at 0x7f6f190ec790>, <docx.text.paragraph.Paragraph object at 0x7f6f190ec7d0>, <docx.text.paragraph.Paragraph object at 0x7f6f190ec850>, <docx.text.paragraph.Paragraph object at 0x7f6f190ec890>, <docx.text.paragraph.Paragraph object at 0x7f6f190ec910>, <docx.text.paragraph.Paragraph object at 0x7f6f190ec990>, <docx.text.paragraph.Paragraph object at 0x7f6f190ec9d0>, <docx.text.paragraph.Paragraph object at 0x7f6f190eca50>, <docx.text.paragraph.Paragraph object at 0x7f6f190eca90>, <docx.text.paragraph.Paragraph object at 0x7f6f190ecb10>, <docx.text.paragraph.Paragraph object at 0x7f6f190ecb50>, <docx.text.paragraph.Paragraph object at 0x7f6f190ecbd0>, <docx.text.paragraph.Paragraph object at 0x7f6f190ecc10>, <docx.text.paragraph.Paragraph object at 0x7f6f190ecc90>, <docx.text.paragraph.Paragraph object at 0x7f6f190eccd0>, <docx.text.paragraph.Paragraph object at 0x7f6f190ecd50>, <docx.text.paragraph.Paragraph object at 0x7f6f190ecd90>, <docx.text.paragraph.Paragraph object at 0x7f6f190ece10>, <docx.text.paragraph.Paragraph object at 0x7f6f190ece50>, <docx.text.paragraph.Paragraph object at 0x7f6f190eced0>, <docx.text.paragraph.Paragraph object at 0x7f6f190ecf10>, <docx.text.paragraph.Paragraph object at 0x7f6f190ecf90>, <docx.text.paragraph.Paragraph object at 0x7f6f190ecfd0>, <docx.text.paragraph.Paragraph object at 0x7f6f190ed090>, <docx.text.paragraph.Paragraph object at 0x7f6f190ed0d0>, <docx.text.paragraph.Paragraph object at 0x7f6f190ed150>, <docx.text.paragraph.Paragraph object at 0x7f6f190ed190>, <docx.text.paragraph.Paragraph object at 0x7f6f190ed210>, <docx.text.paragraph.Paragraph object at 0x7f6f190ed250>, <docx.text.paragraph.Paragraph object at 0x7f6f190ed2d0>, <docx.text.paragraph.Paragraph object at 0x7f6f190ed310>, <docx.text.paragraph.Paragraph object at 0x7f6f190ed390>, <docx.text.paragraph.Paragraph object at 0x7f6f190ed3d0>, <docx.text.paragraph.Paragraph object at 0x7f6f190ed450>, <docx.text.paragraph.Paragraph object at 0x7f6f190ed490>, <docx.text.paragraph.Paragraph object at 0x7f6f190ed510>, <docx.text.paragraph.Paragraph object at 0x7f6f190ed550>, <docx.text.paragraph.Paragraph object at 0x7f6f190ed5d0>, <docx.text.paragraph.Paragraph object at 0x7f6f190ed610>, <docx.text.paragraph.Paragraph object at 0x7f6f190ed690>, <docx.text.paragraph.Paragraph object at 0x7f6f190ed6d0>, <docx.text.paragraph.Paragraph object at 0x7f6f190ed750>, <docx.text.paragraph.Paragraph object at 0x7f6f190ed790>, <docx.text.paragraph.Paragraph object at 0x7f6f190ed810>, <docx.text.paragraph.Paragraph object at 0x7f6f190ed850>, <docx.text.paragraph.Paragraph object at 0x7f6f190ed8d0>, <docx.text.paragraph.Paragraph object at 0x7f6f190ed910>, <docx.text.paragraph.Paragraph object at 0x7f6f190ed990>, <docx.text.paragraph.Paragraph object at 0x7f6f190ed9d0>, <docx.text.paragraph.Paragraph object at 0x7f6f190eda50>, <docx.text.paragraph.Paragraph object at 0x7f6f190eda90>, <docx.text.paragraph.Paragraph object at 0x7f6f190edb10>, <docx.text.paragraph.Paragraph object at 0x7f6f190edb90>, <docx.text.paragraph.Paragraph object at 0x7f6f190edbd0>, <docx.text.paragraph.Paragraph object at 0x7f6f190edc50>, <docx.text.paragraph.Paragraph object at 0x7f6f190edcd0>, <docx.text.paragraph.Paragraph object at 0x7f6f190edd10>, <docx.text.paragraph.Paragraph object at 0x7f6f190edd90>, <docx.text.paragraph.Paragraph object at 0x7f6f190eddd0>, <docx.text.paragraph.Paragraph object at 0x7f6f190ede50>, <docx.text.paragraph.Paragraph object at 0x7f6f190ede90>, <docx.text.paragraph.Paragraph object at 0x7f6f190edf10>, <docx.text.paragraph.Paragraph object at 0x7f6f190edf50>, <docx.text.paragraph.Paragraph object at 0x7f6f190edfd0>, <docx.text.paragraph.Paragraph object at 0x7f6f190f0050>, <docx.text.paragraph.Paragraph object at 0x7f6f190f00d0>, <docx.text.paragraph.Paragraph object at 0x7f6f190f0110>, <docx.text.paragraph.Paragraph object at 0x7f6f190f0190>, <docx.text.paragraph.Paragraph object at 0x7f6f190f01d0>, <docx.text.paragraph.Paragraph object at 0x7f6f190f0250>, <docx.text.paragraph.Paragraph object at 0x7f6f190f0290>, <docx.text.paragraph.Paragraph object at 0x7f6f190f0310>, <docx.text.paragraph.Paragraph object at 0x7f6f190f0350>, <docx.text.paragraph.Paragraph object at 0x7f6f190f03d0>, <docx.text.paragraph.Paragraph object at 0x7f6f190f0450>, <docx.text.paragraph.Paragraph object at 0x7f6f190f0490>, <docx.text.paragraph.Paragraph object at 0x7f6f190f0510>, <docx.text.paragraph.Paragraph object at 0x7f6f190f0550>, <docx.text.paragraph.Paragraph object at 0x7f6f190f05d0>, <docx.text.paragraph.Paragraph object at 0x7f6f190f0610>, <docx.text.paragraph.Paragraph object at 0x7f6f190f0690>, <docx.text.paragraph.Paragraph object at 0x7f6f190f06d0>, <docx.text.paragraph.Paragraph object at 0x7f6f190f0750>, <docx.text.paragraph.Paragraph object at 0x7f6f190f0790>, <docx.text.paragraph.Paragraph object at 0x7f6f190f0810>, <docx.text.paragraph.Paragraph object at 0x7f6f190f0850>, <docx.text.paragraph.Paragraph object at 0x7f6f190f08d0>, <docx.text.paragraph.Paragraph object at 0x7f6f190f0910>, <docx.text.paragraph.Paragraph object at 0x7f6f190f0990>, <docx.text.paragraph.Paragraph object at 0x7f6f190f09d0>, <docx.text.paragraph.Paragraph object at 0x7f6f190f0a50>, <docx.text.paragraph.Paragraph object at 0x7f6f190f0a90>, <docx.text.paragraph.Paragraph object at 0x7f6f190f0b10>, <docx.text.paragraph.Paragraph object at 0x7f6f190f0b50>, <docx.text.paragraph.Paragraph object at 0x7f6f190f0bd0>, <docx.text.paragraph.Paragraph object at 0x7f6f190f0c10>, <docx.text.paragraph.Paragraph object at 0x7f6f190f0c90>, <docx.text.paragraph.Paragraph object at 0x7f6f190f0cd0>, <docx.text.paragraph.Paragraph object at 0x7f6f190f0d50>, <docx.text.paragraph.Paragraph object at 0x7f6f190f0d90>, <docx.text.paragraph.Paragraph object at 0x7f6f190f0e10>, <docx.text.paragraph.Paragraph object at 0x7f6f190f0e50>, <docx.text.paragraph.Paragraph object at 0x7f6f190f0ed0>, <docx.text.paragraph.Paragraph object at 0x7f6f190f0f10>, <docx.text.paragraph.Paragraph object at 0x7f6f190f0f90>, <docx.text.paragraph.Paragraph object at 0x7f6f190f0fd0>, <docx.text.paragraph.Paragraph object at 0x7f6f19072c10>, <docx.text.paragraph.Paragraph object at 0x7f6f19072090>, <docx.text.paragraph.Paragraph object at 0x7f6f190720d0>, <docx.text.paragraph.Paragraph object at 0x7f6f19072150>, <docx.text.paragraph.Paragraph object at 0x7f6f19072190>, <docx.text.paragraph.Paragraph object at 0x7f6f19072210>, <docx.text.paragraph.Paragraph object at 0x7f6f19072250>, <docx.text.paragraph.Paragraph object at 0x7f6f190722d0>, <docx.text.paragraph.Paragraph object at 0x7f6f19072310>, <docx.text.paragraph.Paragraph object at 0x7f6f19072390>, <docx.text.paragraph.Paragraph object at 0x7f6f190723d0>, <docx.text.paragraph.Paragraph object at 0x7f6f19072450>, <docx.text.paragraph.Paragraph object at 0x7f6f19072490>, <docx.text.paragraph.Paragraph object at 0x7f6f19072510>, <docx.text.paragraph.Paragraph object at 0x7f6f19072550>, <docx.text.paragraph.Paragraph object at 0x7f6f19072710>, <docx.text.paragraph.Paragraph object at 0x7f6f190726d0>, <docx.text.paragraph.Paragraph object at 0x7f6f19072790>, <docx.text.paragraph.Paragraph object at 0x7f6f19072690>, <docx.text.paragraph.Paragraph object at 0x7f6f19072890>, <docx.text.paragraph.Paragraph object at 0x7f6f19072850>, <docx.text.paragraph.Paragraph object at 0x7f6f190727d0>, <docx.text.paragraph.Paragraph object at 0x7f6f190728d0>, <docx.text.paragraph.Paragraph object at 0x7f6f19072990>, <docx.text.paragraph.Paragraph object at 0x7f6f19072950>, <docx.text.paragraph.Paragraph object at 0x7f6f190729d0>, <docx.text.paragraph.Paragraph object at 0x7f6f19072910>, <docx.text.paragraph.Paragraph object at 0x7f6f19072a10>, <docx.text.paragraph.Paragraph object at 0x7f6f19072610>, <docx.text.paragraph.Paragraph object at 0x7f6f19072a50>, <docx.text.paragraph.Paragraph object at 0x7f6f19072750>, <docx.text.paragraph.Paragraph object at 0x7f6f19072ad0>, <docx.text.paragraph.Paragraph object at 0x7f6f19072650>, <docx.text.paragraph.Paragraph object at 0x7f6f19072b90>, <docx.text.paragraph.Paragraph object at 0x7f6f19072b50>, <docx.text.paragraph.Paragraph object at 0x7f6f1b3bc850>, <docx.text.paragraph.Paragraph object at 0x7f6f1ae7bd90>, <docx.text.paragraph.Paragraph object at 0x7f6f1ae7b650>, <docx.text.paragraph.Paragraph object at 0x7f6f1ae7bc90>, <docx.text.paragraph.Paragraph object at 0x7f6f1ae7bfd0>, <docx.text.paragraph.Paragraph object at 0x7f6f1ae7bc10>, <docx.text.paragraph.Paragraph object at 0x7f6f1ae7b610>, <docx.text.paragraph.Paragraph object at 0x7f6f1ae7b910>, <docx.text.paragraph.Paragraph object at 0x7f6f1ae7b750>, <docx.text.paragraph.Paragraph object at 0x7f6f1ae7b850>, <docx.text.paragraph.Paragraph object at 0x7f6f1ae7b3d0>, <docx.text.paragraph.Paragraph object at 0x7f6f1ae7b590>, <docx.text.paragraph.Paragraph object at 0x7f6f1ae7b990>, <docx.text.paragraph.Paragraph object at 0x7f6f1ae7be90>, <docx.text.paragraph.Paragraph object at 0x7f6f1ae7b690>, <docx.text.paragraph.Paragraph object at 0x7f6f1ae7b250>, <docx.text.paragraph.Paragraph object at 0x7f6f1ae7b350>, <docx.text.paragraph.Paragraph object at 0x7f6f1ae7b490>, <docx.text.paragraph.Paragraph object at 0x7f6f1ae7bdd0>, <docx.text.paragraph.Paragraph object at 0x7f6f1abca510>, <docx.text.paragraph.Paragraph object at 0x7f6f29652c50>, <docx.text.paragraph.Paragraph object at 0x7f6f1b2ac150>, <docx.text.paragraph.Paragraph object at 0x7f6f1b2ac590>, <docx.text.paragraph.Paragraph object at 0x7f6f1b2ac8d0>, <docx.text.paragraph.Paragraph object at 0x7f6f1b2ac090>, <docx.text.paragraph.Paragraph object at 0x7f6f1b329410>, <docx.text.paragraph.Paragraph object at 0x7f6f1ba2a850>, <docx.text.paragraph.Paragraph object at 0x7f6f1ba2ad50>, <docx.text.paragraph.Paragraph object at 0x7f6f1ba2a750>, <docx.text.paragraph.Paragraph object at 0x7f6f1ba2a6d0>, <docx.text.paragraph.Paragraph object at 0x7f6f1ba2afd0>, <docx.text.paragraph.Paragraph object at 0x7f6f1ba2abd0>, <docx.text.paragraph.Paragraph object at 0x7f6f1ade2390>, <docx.text.paragraph.Paragraph object at 0x7f6f1ade2f50>, <docx.text.paragraph.Paragraph object at 0x7f6f1b468050>, <docx.text.paragraph.Paragraph object at 0x7f6f1b468410>, <docx.text.paragraph.Paragraph object at 0x7f6f1e7c37d0>, <docx.text.paragraph.Paragraph object at 0x7f6f1d0f1ed0>, <docx.text.paragraph.Paragraph object at 0x7f6f1b28ae50>, <docx.text.paragraph.Paragraph object at 0x7f6f1b28af50>, <docx.text.paragraph.Paragraph object at 0x7f6f1b28a810>, <docx.text.paragraph.Paragraph object at 0x7f6f1b28af90>, <docx.text.paragraph.Paragraph object at 0x7f6f1acbe450>, <docx.text.paragraph.Paragraph object at 0x7f6f1acbe690>, <docx.text.paragraph.Paragraph object at 0x7f6f1acbedd0>, <docx.text.paragraph.Paragraph object at 0x7f6f1acbe410>, <docx.text.paragraph.Paragraph object at 0x7f6f1aeed910>, <docx.text.paragraph.Paragraph object at 0x7f6f1b20e890>, <docx.text.paragraph.Paragraph object at 0x7f6f1b20e050>, <docx.text.paragraph.Paragraph object at 0x7f6f1b20edd0>, <docx.text.paragraph.Paragraph object at 0x7f6f1b20e150>, <docx.text.paragraph.Paragraph object at 0x7f6f1b20e990>, <docx.text.paragraph.Paragraph object at 0x7f6f1b20e550>, <docx.text.paragraph.Paragraph object at 0x7f6f1b20e190>, <docx.text.paragraph.Paragraph object at 0x7f6f1b20ed50>, <docx.text.paragraph.Paragraph object at 0x7f6f1b20ea50>, <docx.text.paragraph.Paragraph object at 0x7f6f1b20e5d0>, <docx.text.paragraph.Paragraph object at 0x7f6f1b20e210>, <docx.text.paragraph.Paragraph object at 0x7f6f1c604110>, <docx.text.paragraph.Paragraph object at 0x7f6f1b6acc10>, <docx.text.paragraph.Paragraph object at 0x7f6f1b6acf50>, <docx.text.paragraph.Paragraph object at 0x7f6f1b6ac810>, <docx.text.paragraph.Paragraph object at 0x7f6f1b2b1e50>, <docx.text.paragraph.Paragraph object at 0x7f6f1b46d110>, <docx.text.paragraph.Paragraph object at 0x7f6f1b46d390>, <docx.text.paragraph.Paragraph object at 0x7f6f1b46d210>, <docx.text.paragraph.Paragraph object at 0x7f6f1b46d050>, <docx.text.paragraph.Paragraph object at 0x7f6f1c599990>, <docx.text.paragraph.Paragraph object at 0x7f6f1c5c09d0>, <docx.text.paragraph.Paragraph object at 0x7f6f1b9c9a90>, <docx.text.paragraph.Paragraph object at 0x7f6f1b9c9b50>, <docx.text.paragraph.Paragraph object at 0x7f6f1b9c98d0>, <docx.text.paragraph.Paragraph object at 0x7f6f1b9c90d0>, <docx.text.paragraph.Paragraph object at 0x7f6f1b9c9ad0>, <docx.text.paragraph.Paragraph object at 0x7f6f1b9c9890>, <docx.text.paragraph.Paragraph object at 0x7f6f1b9c9dd0>, <docx.text.paragraph.Paragraph object at 0x7f6f1b9c9650>, <docx.text.paragraph.Paragraph object at 0x7f6f1b9c9690>, <docx.text.paragraph.Paragraph object at 0x7f6f31922bd0>, <docx.text.paragraph.Paragraph object at 0x7f6f31922cd0>, <docx.text.paragraph.Paragraph object at 0x7f6f1966a610>, <docx.text.paragraph.Paragraph object at 0x7f6f1966a9d0>, <docx.text.paragraph.Paragraph object at 0x7f6f1966a190>, <docx.text.paragraph.Paragraph object at 0x7f6f1966a210>, <docx.text.paragraph.Paragraph object at 0x7f6f1966a750>, <docx.text.paragraph.Paragraph object at 0x7f6f1966a2d0>, <docx.text.paragraph.Paragraph object at 0x7f6f1966a990>, <docx.text.paragraph.Paragraph object at 0x7f6f190daed0>, <docx.text.paragraph.Paragraph object at 0x7f6f190daf90>, <docx.text.paragraph.Paragraph object at 0x7f6f190dafd0>, <docx.text.paragraph.Paragraph object at 0x7f6f190da750>, <docx.text.paragraph.Paragraph object at 0x7f6f190dad90>, <docx.text.paragraph.Paragraph object at 0x7f6f190da310>, <docx.text.paragraph.Paragraph object at 0x7f6f190da290>, <docx.text.paragraph.Paragraph object at 0x7f6f190dad50>, <docx.text.paragraph.Paragraph object at 0x7f6f190da710>, <docx.text.paragraph.Paragraph object at 0x7f6f190dae10>, <docx.text.paragraph.Paragraph object at 0x7f6f190da410>, <docx.text.paragraph.Paragraph object at 0x7f6f190dacd0>, <docx.text.paragraph.Paragraph object at 0x7f6f190da790>, <docx.text.paragraph.Paragraph object at 0x7f6f190daf10>, <docx.text.paragraph.Paragraph object at 0x7f6f190da150>, <docx.text.paragraph.Paragraph object at 0x7f6f190da1d0>, <docx.text.paragraph.Paragraph object at 0x7f6f190daad0>, <docx.text.paragraph.Paragraph object at 0x7f6f190da950>, <docx.text.paragraph.Paragraph object at 0x7f6f190da390>, <docx.text.paragraph.Paragraph object at 0x7f6f190da450>, <docx.text.paragraph.Paragraph object at 0x7f6f190da190>, <docx.text.paragraph.Paragraph object at 0x7f6f190da650>, <docx.text.paragraph.Paragraph object at 0x7f6f190da210>, <docx.text.paragraph.Paragraph object at 0x7f6f190da610>, <docx.text.paragraph.Paragraph object at 0x7f6f190daa50>, <docx.text.paragraph.Paragraph object at 0x7f6f190da0d0>, <docx.text.paragraph.Paragraph object at 0x7f6f190da690>, <docx.text.paragraph.Paragraph object at 0x7f6f190daa90>, <docx.text.paragraph.Paragraph object at 0x7f6f190da990>, <docx.text.paragraph.Paragraph object at 0x7f6f190daa10>, <docx.text.paragraph.Paragraph object at 0x7f6f190da9d0>, <docx.text.paragraph.Paragraph object at 0x7f6f190dab90>, <docx.text.paragraph.Paragraph object at 0x7f6f190da590>, <docx.text.paragraph.Paragraph object at 0x7f6f190da5d0>, <docx.text.paragraph.Paragraph object at 0x7f6f190da110>, <docx.text.paragraph.Paragraph object at 0x7f6f190dac10>, <docx.text.paragraph.Paragraph object at 0x7f6f190da090>, <docx.text.paragraph.Paragraph object at 0x7f6f190da510>, <docx.text.paragraph.Paragraph object at 0x7f6f190da550>, <docx.text.paragraph.Paragraph object at 0x7f6f190da250>, <docx.text.paragraph.Paragraph object at 0x7f6f190da490>, <docx.text.paragraph.Paragraph object at 0x7f6f190da4d0>, <docx.text.paragraph.Paragraph object at 0x7f6f190da910>, <docx.text.paragraph.Paragraph object at 0x7f6f190da6d0>, <docx.text.paragraph.Paragraph object at 0x7f6f190da7d0>, <docx.text.paragraph.Paragraph object at 0x7f6f190da3d0>, <docx.text.paragraph.Paragraph object at 0x7f6f190da810>, <docx.text.paragraph.Paragraph object at 0x7f6f190da850>, <docx.text.paragraph.Paragraph object at 0x7f6f190da890>, <docx.text.paragraph.Paragraph object at 0x7f6f190da8d0>, <docx.text.paragraph.Paragraph object at 0x7f6f1b231050>, <docx.text.paragraph.Paragraph object at 0x7f6f1b231390>, <docx.text.paragraph.Paragraph object at 0x7f6f1b2319d0>, <docx.text.paragraph.Paragraph object at 0x7f6f1b231d50>, <docx.text.paragraph.Paragraph object at 0x7f6f19665ad0>, <docx.text.paragraph.Paragraph object at 0x7f6f19665b90>, <docx.text.paragraph.Paragraph object at 0x7f6f19665cd0>, <docx.text.paragraph.Paragraph object at 0x7f6f19665fd0>, <docx.text.paragraph.Paragraph object at 0x7f6f19665c90>, <docx.text.paragraph.Paragraph object at 0x7f6f190d1bd0>, <docx.text.paragraph.Paragraph object at 0x7f6f190d1fd0>, <docx.text.paragraph.Paragraph object at 0x7f6f190d1d90>, <docx.text.paragraph.Paragraph object at 0x7f6f190d1e90>, <docx.text.paragraph.Paragraph object at 0x7f6f190d1b90>, <docx.text.paragraph.Paragraph object at 0x7f6f190d1650>, <docx.text.paragraph.Paragraph object at 0x7f6f190d1ed0>, <docx.text.paragraph.Paragraph object at 0x7f6f190d1dd0>, <docx.text.paragraph.Paragraph object at 0x7f6f190d18d0>, <docx.text.paragraph.Paragraph object at 0x7f6f190d1c90>, <docx.text.paragraph.Paragraph object at 0x7f6f190d1a90>, <docx.text.paragraph.Paragraph object at 0x7f6f190d19d0>, <docx.text.paragraph.Paragraph object at 0x7f6f190d1cd0>, <docx.text.paragraph.Paragraph object at 0x7f6f190e8790>, <docx.text.paragraph.Paragraph object at 0x7f6f190e87d0>, <docx.text.paragraph.Paragraph object at 0x7f6f190e8810>, <docx.text.paragraph.Paragraph object at 0x7f6f190e8850>, <docx.text.paragraph.Paragraph object at 0x7f6f190e8890>, <docx.text.paragraph.Paragraph object at 0x7f6f190e88d0>, <docx.text.paragraph.Paragraph object at 0x7f6f190e8910>, <docx.text.paragraph.Paragraph object at 0x7f6f190e8950>, <docx.text.paragraph.Paragraph object at 0x7f6f190e8990>, <docx.text.paragraph.Paragraph object at 0x7f6f190e89d0>, <docx.text.paragraph.Paragraph object at 0x7f6f190e8a10>, <docx.text.paragraph.Paragraph object at 0x7f6f190e8a50>, <docx.text.paragraph.Paragraph object at 0x7f6f190e8a90>, <docx.text.paragraph.Paragraph object at 0x7f6f190e8ad0>, <docx.text.paragraph.Paragraph object at 0x7f6f190e8b10>, <docx.text.paragraph.Paragraph object at 0x7f6f190e8b50>, <docx.text.paragraph.Paragraph object at 0x7f6f190e8b90>, <docx.text.paragraph.Paragraph object at 0x7f6f190e8bd0>, <docx.text.paragraph.Paragraph object at 0x7f6f190e8c10>, <docx.text.paragraph.Paragraph object at 0x7f6f190e8c50>, <docx.text.paragraph.Paragraph object at 0x7f6f190e8c90>, <docx.text.paragraph.Paragraph object at 0x7f6f190e8cd0>, <docx.text.paragraph.Paragraph object at 0x7f6f190e8d10>, <docx.text.paragraph.Paragraph object at 0x7f6f190e8d50>, <docx.text.paragraph.Paragraph object at 0x7f6f190e8d90>, <docx.text.paragraph.Paragraph object at 0x7f6f190e8dd0>, <docx.text.paragraph.Paragraph object at 0x7f6f190e8e10>, <docx.text.paragraph.Paragraph object at 0x7f6f190e8e50>, <docx.text.paragraph.Paragraph object at 0x7f6f190e8e90>, <docx.text.paragraph.Paragraph object at 0x7f6f190e8ed0>, <docx.text.paragraph.Paragraph object at 0x7f6f190e8f10>, <docx.text.paragraph.Paragraph object at 0x7f6f190e8f50>, <docx.text.paragraph.Paragraph object at 0x7f6f190e8f90>, <docx.text.paragraph.Paragraph object at 0x7f6f190e8fd0>, <docx.text.paragraph.Paragraph object at 0x7f6f19085050>, <docx.text.paragraph.Paragraph object at 0x7f6f19085090>, <docx.text.paragraph.Paragraph object at 0x7f6f190850d0>, <docx.text.paragraph.Paragraph object at 0x7f6f19085110>, <docx.text.paragraph.Paragraph object at 0x7f6f19085150>, <docx.text.paragraph.Paragraph object at 0x7f6f19085190>, <docx.text.paragraph.Paragraph object at 0x7f6f190851d0>, <docx.text.paragraph.Paragraph object at 0x7f6f19085210>, <docx.text.paragraph.Paragraph object at 0x7f6f19085250>, <docx.text.paragraph.Paragraph object at 0x7f6f19085290>, <docx.text.paragraph.Paragraph object at 0x7f6f190852d0>, <docx.text.paragraph.Paragraph object at 0x7f6f19085310>, <docx.text.paragraph.Paragraph object at 0x7f6f19085350>, <docx.text.paragraph.Paragraph object at 0x7f6f19085390>, <docx.text.paragraph.Paragraph object at 0x7f6f190853d0>, <docx.text.paragraph.Paragraph object at 0x7f6f19085410>, <docx.text.paragraph.Paragraph object at 0x7f6f19085450>, <docx.text.paragraph.Paragraph object at 0x7f6f19085490>, <docx.text.paragraph.Paragraph object at 0x7f6f190854d0>, <docx.text.paragraph.Paragraph object at 0x7f6f19085510>, <docx.text.paragraph.Paragraph object at 0x7f6f19085550>, <docx.text.paragraph.Paragraph object at 0x7f6f19085590>, <docx.text.paragraph.Paragraph object at 0x7f6f190855d0>, <docx.text.paragraph.Paragraph object at 0x7f6f19085610>, <docx.text.paragraph.Paragraph object at 0x7f6f19085650>, <docx.text.paragraph.Paragraph object at 0x7f6f19085690>, <docx.text.paragraph.Paragraph object at 0x7f6f190856d0>, <docx.text.paragraph.Paragraph object at 0x7f6f19085710>, <docx.text.paragraph.Paragraph object at 0x7f6f19085750>, <docx.text.paragraph.Paragraph object at 0x7f6f19085790>, <docx.text.paragraph.Paragraph object at 0x7f6f190857d0>, <docx.text.paragraph.Paragraph object at 0x7f6f19085810>, <docx.text.paragraph.Paragraph object at 0x7f6f19085850>, <docx.text.paragraph.Paragraph object at 0x7f6f19085890>, <docx.text.paragraph.Paragraph object at 0x7f6f190858d0>, <docx.text.paragraph.Paragraph object at 0x7f6f19085910>, <docx.text.paragraph.Paragraph object at 0x7f6f19085950>, <docx.text.paragraph.Paragraph object at 0x7f6f19085990>, <docx.text.paragraph.Paragraph object at 0x7f6f190859d0>, <docx.text.paragraph.Paragraph object at 0x7f6f19085a10>, <docx.text.paragraph.Paragraph object at 0x7f6f19085a50>, <docx.text.paragraph.Paragraph object at 0x7f6f19085a90>, <docx.text.paragraph.Paragraph object at 0x7f6f19085ad0>, <docx.text.paragraph.Paragraph object at 0x7f6f19085b10>, <docx.text.paragraph.Paragraph object at 0x7f6f19085b50>, <docx.text.paragraph.Paragraph object at 0x7f6f19085b90>, <docx.text.paragraph.Paragraph object at 0x7f6f19085bd0>, <docx.text.paragraph.Paragraph object at 0x7f6f19085c10>, <docx.text.paragraph.Paragraph object at 0x7f6f19085c50>, <docx.text.paragraph.Paragraph object at 0x7f6f19085c90>, <docx.text.paragraph.Paragraph object at 0x7f6f19085cd0>, <docx.text.paragraph.Paragraph object at 0x7f6f19085d10>, <docx.text.paragraph.Paragraph object at 0x7f6f19085d50>, <docx.text.paragraph.Paragraph object at 0x7f6f19085d90>, <docx.text.paragraph.Paragraph object at 0x7f6f19085dd0>, <docx.text.paragraph.Paragraph object at 0x7f6f19085e10>, <docx.text.paragraph.Paragraph object at 0x7f6f19085e50>, <docx.text.paragraph.Paragraph object at 0x7f6f19085e90>, <docx.text.paragraph.Paragraph object at 0x7f6f19085ed0>, <docx.text.paragraph.Paragraph object at 0x7f6f19085f10>, <docx.text.paragraph.Paragraph object at 0x7f6f19085f50>, <docx.text.paragraph.Paragraph object at 0x7f6f19085f90>, <docx.text.paragraph.Paragraph object at 0x7f6f19085fd0>, <docx.text.paragraph.Paragraph object at 0x7f6f19086050>, <docx.text.paragraph.Paragraph object at 0x7f6f19086090>, <docx.text.paragraph.Paragraph object at 0x7f6f190860d0>, <docx.text.paragraph.Paragraph object at 0x7f6f19086110>, <docx.text.paragraph.Paragraph object at 0x7f6f19086150>, <docx.text.paragraph.Paragraph object at 0x7f6f19086190>, <docx.text.paragraph.Paragraph object at 0x7f6f190861d0>, <docx.text.paragraph.Paragraph object at 0x7f6f19086210>, <docx.text.paragraph.Paragraph object at 0x7f6f19086250>, <docx.text.paragraph.Paragraph object at 0x7f6f19086290>, <docx.text.paragraph.Paragraph object at 0x7f6f190862d0>, <docx.text.paragraph.Paragraph object at 0x7f6f19086310>, <docx.text.paragraph.Paragraph object at 0x7f6f19086350>, <docx.text.paragraph.Paragraph object at 0x7f6f19086390>, <docx.text.paragraph.Paragraph object at 0x7f6f190863d0>, <docx.text.paragraph.Paragraph object at 0x7f6f19086410>, <docx.text.paragraph.Paragraph object at 0x7f6f19086450>, <docx.text.paragraph.Paragraph object at 0x7f6f19086490>, <docx.text.paragraph.Paragraph object at 0x7f6f190864d0>, <docx.text.paragraph.Paragraph object at 0x7f6f19086510>, <docx.text.paragraph.Paragraph object at 0x7f6f19086550>, <docx.text.paragraph.Paragraph object at 0x7f6f19086590>, <docx.text.paragraph.Paragraph object at 0x7f6f190865d0>, <docx.text.paragraph.Paragraph object at 0x7f6f19086610>, <docx.text.paragraph.Paragraph object at 0x7f6f19086650>, <docx.text.paragraph.Paragraph object at 0x7f6f19086690>, <docx.text.paragraph.Paragraph object at 0x7f6f190866d0>, <docx.text.paragraph.Paragraph object at 0x7f6f19086710>, <docx.text.paragraph.Paragraph object at 0x7f6f19086750>, <docx.text.paragraph.Paragraph object at 0x7f6f19086790>, <docx.text.paragraph.Paragraph object at 0x7f6f190867d0>, <docx.text.paragraph.Paragraph object at 0x7f6f19086810>, <docx.text.paragraph.Paragraph object at 0x7f6f19086850>, <docx.text.paragraph.Paragraph object at 0x7f6f19086890>, <docx.text.paragraph.Paragraph object at 0x7f6f190868d0>, <docx.text.paragraph.Paragraph object at 0x7f6f19086910>, <docx.text.paragraph.Paragraph object at 0x7f6f19086950>, <docx.text.paragraph.Paragraph object at 0x7f6f19086990>, <docx.text.paragraph.Paragraph object at 0x7f6f190869d0>, <docx.text.paragraph.Paragraph object at 0x7f6f19086a10>, <docx.text.paragraph.Paragraph object at 0x7f6f19086a50>, <docx.text.paragraph.Paragraph object at 0x7f6f19086a90>, <docx.text.paragraph.Paragraph object at 0x7f6f19086ad0>, <docx.text.paragraph.Paragraph object at 0x7f6f19086b10>, <docx.text.paragraph.Paragraph object at 0x7f6f19086b50>, <docx.text.paragraph.Paragraph object at 0x7f6f19086b90>, <docx.text.paragraph.Paragraph object at 0x7f6f19086bd0>, <docx.text.paragraph.Paragraph object at 0x7f6f19086c10>, <docx.text.paragraph.Paragraph object at 0x7f6f19086c50>, <docx.text.paragraph.Paragraph object at 0x7f6f19086c90>, <docx.text.paragraph.Paragraph object at 0x7f6f19086cd0>, <docx.text.paragraph.Paragraph object at 0x7f6f19086d10>, <docx.text.paragraph.Paragraph object at 0x7f6f19086d50>, <docx.text.paragraph.Paragraph object at 0x7f6f19086d90>, <docx.text.paragraph.Paragraph object at 0x7f6f19086dd0>, <docx.text.paragraph.Paragraph object at 0x7f6f19086e10>, <docx.text.paragraph.Paragraph object at 0x7f6f19086e50>, <docx.text.paragraph.Paragraph object at 0x7f6f19086e90>, <docx.text.paragraph.Paragraph object at 0x7f6f19086ed0>, <docx.text.paragraph.Paragraph object at 0x7f6f19086f10>, <docx.text.paragraph.Paragraph object at 0x7f6f19086f50>, <docx.text.paragraph.Paragraph object at 0x7f6f19086f90>, <docx.text.paragraph.Paragraph object at 0x7f6f19086fd0>, <docx.text.paragraph.Paragraph object at 0x7f6f19088050>, <docx.text.paragraph.Paragraph object at 0x7f6f19088090>, <docx.text.paragraph.Paragraph object at 0x7f6f190880d0>, <docx.text.paragraph.Paragraph object at 0x7f6f19088110>, <docx.text.paragraph.Paragraph object at 0x7f6f19088150>, <docx.text.paragraph.Paragraph object at 0x7f6f19088190>, <docx.text.paragraph.Paragraph object at 0x7f6f190881d0>, <docx.text.paragraph.Paragraph object at 0x7f6f19088210>, <docx.text.paragraph.Paragraph object at 0x7f6f19088250>, <docx.text.paragraph.Paragraph object at 0x7f6f19088290>, <docx.text.paragraph.Paragraph object at 0x7f6f190882d0>, <docx.text.paragraph.Paragraph object at 0x7f6f19088310>, <docx.text.paragraph.Paragraph object at 0x7f6f19088350>, <docx.text.paragraph.Paragraph object at 0x7f6f19088390>, <docx.text.paragraph.Paragraph object at 0x7f6f190883d0>, <docx.text.paragraph.Paragraph object at 0x7f6f19088410>, <docx.text.paragraph.Paragraph object at 0x7f6f19088450>, <docx.text.paragraph.Paragraph object at 0x7f6f19088490>, <docx.text.paragraph.Paragraph object at 0x7f6f190884d0>, <docx.text.paragraph.Paragraph object at 0x7f6f19088510>, <docx.text.paragraph.Paragraph object at 0x7f6f19088550>, <docx.text.paragraph.Paragraph object at 0x7f6f19088590>, <docx.text.paragraph.Paragraph object at 0x7f6f190885d0>, <docx.text.paragraph.Paragraph object at 0x7f6f19088610>, <docx.text.paragraph.Paragraph object at 0x7f6f19088650>, <docx.text.paragraph.Paragraph object at 0x7f6f19088690>, <docx.text.paragraph.Paragraph object at 0x7f6f190886d0>, <docx.text.paragraph.Paragraph object at 0x7f6f19088710>, <docx.text.paragraph.Paragraph object at 0x7f6f19088750>, <docx.text.paragraph.Paragraph object at 0x7f6f19088790>, <docx.text.paragraph.Paragraph object at 0x7f6f190887d0>, <docx.text.paragraph.Paragraph object at 0x7f6f19088810>, <docx.text.paragraph.Paragraph object at 0x7f6f19088850>, <docx.text.paragraph.Paragraph object at 0x7f6f19088890>, <docx.text.paragraph.Paragraph object at 0x7f6f190888d0>, <docx.text.paragraph.Paragraph object at 0x7f6f19088910>, <docx.text.paragraph.Paragraph object at 0x7f6f19088950>, <docx.text.paragraph.Paragraph object at 0x7f6f19088990>, <docx.text.paragraph.Paragraph object at 0x7f6f190889d0>, <docx.text.paragraph.Paragraph object at 0x7f6f19088a10>, <docx.text.paragraph.Paragraph object at 0x7f6f19088a50>, <docx.text.paragraph.Paragraph object at 0x7f6f19088a90>, <docx.text.paragraph.Paragraph object at 0x7f6f19088ad0>, <docx.text.paragraph.Paragraph object at 0x7f6f19088b10>, <docx.text.paragraph.Paragraph object at 0x7f6f19088b50>, <docx.text.paragraph.Paragraph object at 0x7f6f19088b90>, <docx.text.paragraph.Paragraph object at 0x7f6f19088bd0>, <docx.text.paragraph.Paragraph object at 0x7f6f19088c10>, <docx.text.paragraph.Paragraph object at 0x7f6f19088c50>, <docx.text.paragraph.Paragraph object at 0x7f6f19088c90>, <docx.text.paragraph.Paragraph object at 0x7f6f19088cd0>, <docx.text.paragraph.Paragraph object at 0x7f6f19088d10>, <docx.text.paragraph.Paragraph object at 0x7f6f19088d50>, <docx.text.paragraph.Paragraph object at 0x7f6f19088d90>, <docx.text.paragraph.Paragraph object at 0x7f6f19088dd0>, <docx.text.paragraph.Paragraph object at 0x7f6f19088e10>, <docx.text.paragraph.Paragraph object at 0x7f6f19088e50>, <docx.text.paragraph.Paragraph object at 0x7f6f19088e90>, <docx.text.paragraph.Paragraph object at 0x7f6f19088ed0>, <docx.text.paragraph.Paragraph object at 0x7f6f19088f10>, <docx.text.paragraph.Paragraph object at 0x7f6f19088f50>, <docx.text.paragraph.Paragraph object at 0x7f6f19088f90>, <docx.text.paragraph.Paragraph object at 0x7f6f19088fd0>, <docx.text.paragraph.Paragraph object at 0x7f6f1908a050>, <docx.text.paragraph.Paragraph object at 0x7f6f1908a090>, <docx.text.paragraph.Paragraph object at 0x7f6f1908a0d0>, <docx.text.paragraph.Paragraph object at 0x7f6f1908a110>]\n"
          ]
        }
      ]
    },
    {
      "cell_type": "code",
      "source": [
        "\n",
        "for p in document.paragraphs:\n",
        "  if p.text.find('{')>-1:\n",
        "    l=(re.findall('{(.+?)}',p.text))\n",
        "    res = re.findall(r'\\{.*?\\}.*?\\{.*?\\}', p.text)\n",
        "    for i in res:\n",
        "      print(i)\n",
        "    # df.loc[len(df.index)] = [p.text[start+1:end], int(l[0])]\n",
        "    # print(p.text,)\n"
      ],
      "metadata": {
        "id": "tv2_A6K9nlxv"
      },
      "execution_count": null,
      "outputs": []
    },
    {
      "cell_type": "code",
      "source": [
        "import pandas as pd\n",
        "\n",
        "df = pd.DataFrame({'content': [],\n",
        "                   'tag': []\n",
        "})"
      ],
      "metadata": {
        "id": "XjwZE57voDdz"
      },
      "execution_count": 46,
      "outputs": []
    },
    {
      "cell_type": "code",
      "source": [
        "df"
      ],
      "metadata": {
        "colab": {
          "base_uri": "https://localhost:8080/",
          "height": 424
        },
        "id": "nbKPspucokmL",
        "outputId": "e08095ea-8465-4db4-fc49-925784eb2efa"
      },
      "execution_count": 62,
      "outputs": [
        {
          "output_type": "execute_result",
          "data": {
            "text/plain": [
              "                                                 content   tag\n",
              "0       Настоящие Правила устанавливают цели, условия...   2.0\n",
              "1       Грант в форме субсидии предоставляется молоде...   5.0\n",
              "2       Грант в форме субсидии предоставляется Минист...   3.0\n",
              "3       Размер гранта в форме субсидии определяется и...  22.0\n",
              "4       утвержденных федеральным органом исполнительн...  22.0\n",
              "...                                                  ...   ...\n",
              "18610  C - объем полученной в отчетном году субсидии,...  38.0\n",
              "18611  Министерство промышленности и торговли Российс...  37.0\n",
              "18612  В случае установления по итогам проверок, пров...  38.0\n",
              "18613  на основании требования Министерства промышлен...  38.0\n",
              "18614  на основании представления и (или) предписания...  38.0\n",
              "\n",
              "[18615 rows x 2 columns]"
            ],
            "text/html": [
              "\n",
              "  <div id=\"df-96d85626-85af-43c7-8d8d-db4a1ea9e064\">\n",
              "    <div class=\"colab-df-container\">\n",
              "      <div>\n",
              "<style scoped>\n",
              "    .dataframe tbody tr th:only-of-type {\n",
              "        vertical-align: middle;\n",
              "    }\n",
              "\n",
              "    .dataframe tbody tr th {\n",
              "        vertical-align: top;\n",
              "    }\n",
              "\n",
              "    .dataframe thead th {\n",
              "        text-align: right;\n",
              "    }\n",
              "</style>\n",
              "<table border=\"1\" class=\"dataframe\">\n",
              "  <thead>\n",
              "    <tr style=\"text-align: right;\">\n",
              "      <th></th>\n",
              "      <th>content</th>\n",
              "      <th>tag</th>\n",
              "    </tr>\n",
              "  </thead>\n",
              "  <tbody>\n",
              "    <tr>\n",
              "      <th>0</th>\n",
              "      <td>Настоящие Правила устанавливают цели, условия...</td>\n",
              "      <td>2.0</td>\n",
              "    </tr>\n",
              "    <tr>\n",
              "      <th>1</th>\n",
              "      <td>Грант в форме субсидии предоставляется молоде...</td>\n",
              "      <td>5.0</td>\n",
              "    </tr>\n",
              "    <tr>\n",
              "      <th>2</th>\n",
              "      <td>Грант в форме субсидии предоставляется Минист...</td>\n",
              "      <td>3.0</td>\n",
              "    </tr>\n",
              "    <tr>\n",
              "      <th>3</th>\n",
              "      <td>Размер гранта в форме субсидии определяется и...</td>\n",
              "      <td>22.0</td>\n",
              "    </tr>\n",
              "    <tr>\n",
              "      <th>4</th>\n",
              "      <td>утвержденных федеральным органом исполнительн...</td>\n",
              "      <td>22.0</td>\n",
              "    </tr>\n",
              "    <tr>\n",
              "      <th>...</th>\n",
              "      <td>...</td>\n",
              "      <td>...</td>\n",
              "    </tr>\n",
              "    <tr>\n",
              "      <th>18610</th>\n",
              "      <td>C - объем полученной в отчетном году субсидии,...</td>\n",
              "      <td>38.0</td>\n",
              "    </tr>\n",
              "    <tr>\n",
              "      <th>18611</th>\n",
              "      <td>Министерство промышленности и торговли Российс...</td>\n",
              "      <td>37.0</td>\n",
              "    </tr>\n",
              "    <tr>\n",
              "      <th>18612</th>\n",
              "      <td>В случае установления по итогам проверок, пров...</td>\n",
              "      <td>38.0</td>\n",
              "    </tr>\n",
              "    <tr>\n",
              "      <th>18613</th>\n",
              "      <td>на основании требования Министерства промышлен...</td>\n",
              "      <td>38.0</td>\n",
              "    </tr>\n",
              "    <tr>\n",
              "      <th>18614</th>\n",
              "      <td>на основании представления и (или) предписания...</td>\n",
              "      <td>38.0</td>\n",
              "    </tr>\n",
              "  </tbody>\n",
              "</table>\n",
              "<p>18615 rows × 2 columns</p>\n",
              "</div>\n",
              "      <button class=\"colab-df-convert\" onclick=\"convertToInteractive('df-96d85626-85af-43c7-8d8d-db4a1ea9e064')\"\n",
              "              title=\"Convert this dataframe to an interactive table.\"\n",
              "              style=\"display:none;\">\n",
              "        \n",
              "  <svg xmlns=\"http://www.w3.org/2000/svg\" height=\"24px\"viewBox=\"0 0 24 24\"\n",
              "       width=\"24px\">\n",
              "    <path d=\"M0 0h24v24H0V0z\" fill=\"none\"/>\n",
              "    <path d=\"M18.56 5.44l.94 2.06.94-2.06 2.06-.94-2.06-.94-.94-2.06-.94 2.06-2.06.94zm-11 1L8.5 8.5l.94-2.06 2.06-.94-2.06-.94L8.5 2.5l-.94 2.06-2.06.94zm10 10l.94 2.06.94-2.06 2.06-.94-2.06-.94-.94-2.06-.94 2.06-2.06.94z\"/><path d=\"M17.41 7.96l-1.37-1.37c-.4-.4-.92-.59-1.43-.59-.52 0-1.04.2-1.43.59L10.3 9.45l-7.72 7.72c-.78.78-.78 2.05 0 2.83L4 21.41c.39.39.9.59 1.41.59.51 0 1.02-.2 1.41-.59l7.78-7.78 2.81-2.81c.8-.78.8-2.07 0-2.86zM5.41 20L4 18.59l7.72-7.72 1.47 1.35L5.41 20z\"/>\n",
              "  </svg>\n",
              "      </button>\n",
              "      \n",
              "  <style>\n",
              "    .colab-df-container {\n",
              "      display:flex;\n",
              "      flex-wrap:wrap;\n",
              "      gap: 12px;\n",
              "    }\n",
              "\n",
              "    .colab-df-convert {\n",
              "      background-color: #E8F0FE;\n",
              "      border: none;\n",
              "      border-radius: 50%;\n",
              "      cursor: pointer;\n",
              "      display: none;\n",
              "      fill: #1967D2;\n",
              "      height: 32px;\n",
              "      padding: 0 0 0 0;\n",
              "      width: 32px;\n",
              "    }\n",
              "\n",
              "    .colab-df-convert:hover {\n",
              "      background-color: #E2EBFA;\n",
              "      box-shadow: 0px 1px 2px rgba(60, 64, 67, 0.3), 0px 1px 3px 1px rgba(60, 64, 67, 0.15);\n",
              "      fill: #174EA6;\n",
              "    }\n",
              "\n",
              "    [theme=dark] .colab-df-convert {\n",
              "      background-color: #3B4455;\n",
              "      fill: #D2E3FC;\n",
              "    }\n",
              "\n",
              "    [theme=dark] .colab-df-convert:hover {\n",
              "      background-color: #434B5C;\n",
              "      box-shadow: 0px 1px 3px 1px rgba(0, 0, 0, 0.15);\n",
              "      filter: drop-shadow(0px 1px 2px rgba(0, 0, 0, 0.3));\n",
              "      fill: #FFFFFF;\n",
              "    }\n",
              "  </style>\n",
              "\n",
              "      <script>\n",
              "        const buttonEl =\n",
              "          document.querySelector('#df-96d85626-85af-43c7-8d8d-db4a1ea9e064 button.colab-df-convert');\n",
              "        buttonEl.style.display =\n",
              "          google.colab.kernel.accessAllowed ? 'block' : 'none';\n",
              "\n",
              "        async function convertToInteractive(key) {\n",
              "          const element = document.querySelector('#df-96d85626-85af-43c7-8d8d-db4a1ea9e064');\n",
              "          const dataTable =\n",
              "            await google.colab.kernel.invokeFunction('convertToInteractive',\n",
              "                                                     [key], {});\n",
              "          if (!dataTable) return;\n",
              "\n",
              "          const docLinkHtml = 'Like what you see? Visit the ' +\n",
              "            '<a target=\"_blank\" href=https://colab.research.google.com/notebooks/data_table.ipynb>data table notebook</a>'\n",
              "            + ' to learn more about interactive tables.';\n",
              "          element.innerHTML = '';\n",
              "          dataTable['output_type'] = 'display_data';\n",
              "          await google.colab.output.renderOutput(dataTable, element);\n",
              "          const docLink = document.createElement('div');\n",
              "          docLink.innerHTML = docLinkHtml;\n",
              "          element.appendChild(docLink);\n",
              "        }\n",
              "      </script>\n",
              "    </div>\n",
              "  </div>\n",
              "  "
            ]
          },
          "metadata": {},
          "execution_count": 62
        }
      ]
    },
    {
      "cell_type": "code",
      "source": [
        "for i in range(18615):\n",
        "  string = re.sub(r'{(.+?)}', '', df.content[i])\n",
        "  df.content[i]=string\n"
      ],
      "metadata": {
        "colab": {
          "base_uri": "https://localhost:8080/"
        },
        "id": "559i8jFMgZCT",
        "outputId": "053e214b-1f7f-4a8c-9a1e-105b872db8c2"
      },
      "execution_count": 61,
      "outputs": [
        {
          "output_type": "stream",
          "name": "stderr",
          "text": [
            "/usr/local/lib/python3.7/dist-packages/ipykernel_launcher.py:3: SettingWithCopyWarning: \n",
            "A value is trying to be set on a copy of a slice from a DataFrame\n",
            "\n",
            "See the caveats in the documentation: https://pandas.pydata.org/pandas-docs/stable/user_guide/indexing.html#returning-a-view-versus-a-copy\n",
            "  This is separate from the ipykernel package so we can avoid doing imports until\n"
          ]
        }
      ]
    },
    {
      "cell_type": "code",
      "source": [
        "import glob\n",
        "\n",
        "k=0\n",
        "files=[]\n",
        "for filepath in glob.iglob('docs/*.docx'):\n",
        "    k+=1\n",
        "    files.append(filepath)\n",
        "files\n"
      ],
      "metadata": {
        "id": "XJFG2k5K1QHJ"
      },
      "execution_count": null,
      "outputs": []
    },
    {
      "cell_type": "code",
      "source": [
        "import re\n",
        "for i in files:\n",
        "  document = Document(i)\n",
        "  for p in document.paragraphs:\n",
        "    try:\n",
        "        l=0\n",
        "        res = re.findall(r'\\{.*?\\}.*?\\{.*?\\}', p.text)\n",
        "        for i in res:\n",
        "          l=(re.findall('{(.+?)}',i))\n",
        "          df.loc[len(df.index)] = [i, int(l[0])]\n",
        "    except:\n",
        "      print(p.text)\n"
      ],
      "metadata": {
        "colab": {
          "base_uri": "https://localhost:8080/"
        },
        "id": "BXrCA7aX1uFR",
        "outputId": "c33a1344-4195-49b4-f695-d05443113e38"
      },
      "execution_count": 51,
      "outputs": [
        {
          "output_type": "stream",
          "name": "stdout",
          "text": [
            "б){15} проверяет в течение 7 рабочих дней со дня поступления документов {15},  {}15указанных в  настоящих Правил, полноту содержащихся в них сведений и направляет их на рассмотрение Комиссии. {15}\n"
          ]
        }
      ]
    },
    {
      "cell_type": "code",
      "source": [
        "df.to_csv('dataset.csv')"
      ],
      "metadata": {
        "id": "Z0fgW3EO4L8v"
      },
      "execution_count": 74,
      "outputs": []
    },
    {
      "cell_type": "code",
      "source": [
        "import pandas as pd\n",
        "import matplotlib.pyplot as plt\n",
        "%matplotlib inline\n",
        "fig, ax = plt.subplots()\n",
        "df['tag'].plot(kind='hist',figsize=(10,10),ax=ax)\n",
        "ax.grid()\n"
      ],
      "metadata": {
        "colab": {
          "base_uri": "https://localhost:8080/",
          "height": 592
        },
        "id": "8agY2lC_syOV",
        "outputId": "6c40389c-6627-419a-bef4-ba4747e71cb1"
      },
      "execution_count": 73,
      "outputs": [
        {
          "output_type": "display_data",
          "data": {
            "text/plain": [
              "<Figure size 720x720 with 1 Axes>"
            ],
            "image/png": "[encoded data removed]"
          },
          "metadata": {
            "needs_background": "light"
          }
        }
      ]
    }
  ]
}